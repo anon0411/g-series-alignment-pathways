{
 "cells": [
  {
   "cell_type": "code",
   "execution_count": null,
   "id": "489a532f",
   "metadata": {
    "vscode": {
     "languageId": "plaintext"
    }
   },
   "outputs": [],
   "source": [
    "import numpy as np\n",
    "from qiskit import QuantumCircuit, transpile\n",
    "from qiskit_aer import QasmSimulator\n",
    "from qiskit.result import marginal_counts\n",
    "from scipy.spatial.distance import cosine\n",
    "\n",
    "# 설정\n",
    "n_qubits = 3\n",
    "shots = 1024\n",
    "simulator = QasmSimulator()\n",
    "\n",
    "# 회로 생성 함수\n",
    "def make_circuit(theta):\n",
    "    qc = QuantumCircuit(n_qubits, n_qubits)\n",
    "    for i, angle in enumerate(theta):\n",
    "        qc.ry(angle * np.pi, i)\n",
    "    qc.measure(range(n_qubits), range(n_qubits))\n",
    "    return qc\n",
    "\n",
    "# 벡터 변환 함수\n",
    "def counts_to_vector(counts, n=n_qubits):\n",
    "    total = sum(counts.values())\n",
    "    vec = np.zeros(n)\n",
    "    for bitstring, count in counts.items():\n",
    "        prob = count / total\n",
    "        bits = [int(b) for b in bitstring[::-1]]\n",
    "        vec += np.array(bits) * prob\n",
    "    return vec\n",
    "\n",
    "# 유사도 측정 함수\n",
    "def similarity(v1, v2):\n",
    "    return 1 - cosine(v1, v2)\n",
    "\n",
    "# 회로 실행 함수\n",
    "def run(theta):\n",
    "    qc = make_circuit(theta)\n",
    "    tqc = transpile(qc, simulator)\n",
    "    result = simulator.run(tqc, shots=shots).result()\n",
    "    return result.get_counts()\n",
    "\n",
    "# ⬛ 기준 회로\n",
    "base_theta = np.array([0.25, 0.5, 0.75])\n",
    "\n",
    "# 조건 C: 기준 회로\n",
    "counts_C = run(base_theta)\n",
    "vec_C = counts_to_vector(counts_C)\n",
    "\n",
    "# 조건 A: 동일 구조 반복\n",
    "counts_A = run(base_theta)\n",
    "vec_A = counts_to_vector(counts_A)\n",
    "sim_A = similarity(vec_C, vec_A)\n",
    "\n",
    "# 조건 B: 구조 제거 (RY 평균값은 유지하되 순서 무작위화)\n",
    "shuffled_theta = np.random.permutation(base_theta)\n",
    "counts_B = run(shuffled_theta)\n",
    "vec_B = counts_to_vector(counts_B)\n",
    "sim_B = similarity(vec_C, vec_B)\n",
    "\n",
    "# 출력\n",
    "print(f\"조건 A (구조 반복) vs C 유사도: {sim_A:.4f}\")\n",
    "print(f\"조건 B (무작위 구조) vs C 유사도: {sim_B:.4f}\")\n"
   ]
  },
  {
   "cell_type": "code",
   "execution_count": null,
   "id": "b8192955",
   "metadata": {
    "vscode": {
     "languageId": "plaintext"
    }
   },
   "outputs": [],
   "source": [
    "#반복실행 1 :\n",
    "#조건 A (구조 반복) vs C 유사도: 0.9998\n",
    "#조건 B (무작위 구조) vs C 유사도: 0.8953\n",
    "#반복실행2:\n",
    "#조건 A (구조 반복) vs C 유사도: 0.9999\n",
    "#조건 B (무작위 구조) vs C 유사도: 0.8731\n",
    "#반복실행3:\n",
    "#조건 A (구조 반복) vs C 유사도: 0.9997\n",
    "#조건 B (무작위 구조) vs C 유사도: 0.4803\n",
    "#반복실행4:\n",
    "#조건 A (구조 반복) vs C 유사도: 1.0000\n",
    "#조건 B (무작위 구조) vs C 유사도: 0.6209\n",
    "#반복실행 5:\n",
    "#조건 A (구조 반복) vs C 유사도: 0.9997\n",
    "#조건 B (무작위 구조) vs C 유사도: 0.9997"
   ]
  }
 ],
 "metadata": {
  "language_info": {
   "name": "python"
  }
 },
 "nbformat": 4,
 "nbformat_minor": 5
}
