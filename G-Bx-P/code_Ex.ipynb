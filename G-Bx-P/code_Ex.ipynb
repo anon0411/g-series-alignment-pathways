{
 "cells": [
  {
   "cell_type": "code",
   "execution_count": null,
   "id": "c1c4bd20",
   "metadata": {
    "vscode": {
     "languageId": "plaintext"
    }
   },
   "outputs": [],
   "source": [
    "import numpy as np\n",
    "from qiskit import QuantumCircuit, transpile\n",
    "from qiskit_aer import QasmSimulator\n",
    "from scipy.spatial.distance import cosine\n",
    "\n",
    "# 설정\n",
    "n_qubits = 3\n",
    "shots = 1024\n",
    "n_trials = 30\n",
    "simulator = QasmSimulator()\n",
    "base_theta = np.array([0.25, 0.5, 0.75])\n",
    "\n",
    "# 회로 생성\n",
    "def make_circuit(theta):\n",
    "    qc = QuantumCircuit(n_qubits, n_qubits)\n",
    "    for i, angle in enumerate(theta):\n",
    "        qc.ry(angle * np.pi, i)\n",
    "    qc.measure(range(n_qubits), range(n_qubits))\n",
    "    return qc\n",
    "\n",
    "# 벡터 변환\n",
    "def counts_to_vector(counts, n=n_qubits):\n",
    "    total = sum(counts.values())\n",
    "    vec = np.zeros(n)\n",
    "    for bitstring, count in counts.items():\n",
    "        prob = count / total\n",
    "        bits = [int(b) for b in bitstring[::-1]]\n",
    "        vec += np.array(bits) * prob\n",
    "    return vec\n",
    "\n",
    "# 유사도\n",
    "def similarity(v1, v2):\n",
    "    return 1 - cosine(v1, v2)\n",
    "\n",
    "# 실행 함수\n",
    "def run(theta):\n",
    "    qc = make_circuit(theta)\n",
    "    tqc = transpile(qc, simulator)\n",
    "    result = simulator.run(tqc, shots=shots).result()\n",
    "    return result.get_counts()\n",
    "\n",
    "# 기준 벡터\n",
    "counts_C = run(base_theta)\n",
    "vec_C = counts_to_vector(counts_C)\n",
    "\n",
    "# 반복 실행\n",
    "sim_A_list = []\n",
    "sim_B_list = []\n",
    "\n",
    "for _ in range(n_trials):\n",
    "    # A: 구조 반복\n",
    "    counts_A = run(base_theta)\n",
    "    vec_A = counts_to_vector(counts_A)\n",
    "    sim_A_list.append(similarity(vec_C, vec_A))\n",
    "\n",
    "    # B: 구조 제거\n",
    "    shuffled_theta = np.random.permutation(base_theta)\n",
    "    counts_B = run(shuffled_theta)\n",
    "    vec_B = counts_to_vector(counts_B)\n",
    "    sim_B_list.append(similarity(vec_C, vec_B))\n",
    "\n",
    "# 결과 출력\n",
    "print(\"🔁 조건 A (구조 반복) 유사도\")\n",
    "print(f\"  평균: {np.mean(sim_A_list):.4f}\")\n",
    "print(f\"  표준편차: {np.std(sim_A_list):.4f}\\n\")\n",
    "\n",
    "print(\"🔀 조건 B (무작위 구조) 유사도\")\n",
    "print(f\"  평균: {np.mean(sim_B_list):.4f}\")\n",
    "print(f\"  표준편차: {np.std(sim_B_list):.4f}\")\n"
   ]
  },
  {
   "cell_type": "code",
   "execution_count": null,
   "id": "de3c7f30",
   "metadata": {
    "vscode": {
     "languageId": "plaintext"
    }
   },
   "outputs": [],
   "source": [
    "#🔁 조건 A (구조 반복) 유사도\n",
    "  #평균: 0.9996\n",
    "  #표준편차: 0.0003\n",
    "\n",
    "#🔀 조건 B (무작위 구조) 유사도\n",
    "  #평균: 0.7391\n",
    "  #표준편차: 0.1728"
   ]
  }
 ],
 "metadata": {
  "language_info": {
   "name": "python"
  }
 },
 "nbformat": 4,
 "nbformat_minor": 5
}
