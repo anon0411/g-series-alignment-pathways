{
 "cells": [
  {
   "cell_type": "code",
   "execution_count": null,
   "id": "93f10c8e",
   "metadata": {
    "vscode": {
     "languageId": "plaintext"
    }
   },
   "outputs": [],
   "source": [
    "import numpy as np\n",
    "from qiskit import QuantumCircuit\n",
    "from qiskit_aer import Aer\n",
    "from scipy.spatial.distance import cosine\n",
    "from tqdm import trange\n",
    "\n",
    "# 설정\n",
    "n_qubits = 3\n",
    "shots = 1024\n",
    "iterations = 10\n",
    "noise_level = 0.3\n",
    "\n",
    "sim = Aer.get_backend('qasm_simulator')\n",
    "\n",
    "base_angles = [0.25 * np.pi, 0.5 * np.pi, 0.75 * np.pi]\n",
    "\n",
    "def build_circuit(angles):\n",
    "    qc = QuantumCircuit(n_qubits, n_qubits)\n",
    "    for i, theta in enumerate(angles):\n",
    "        qc.ry(theta, i)\n",
    "    qc.measure(range(n_qubits), range(n_qubits))\n",
    "    return qc\n",
    "\n",
    "def run_circuit(angles):\n",
    "    qc = build_circuit(angles)\n",
    "    result = sim.run(qc, shots=shots).result()\n",
    "    return result.get_counts()\n",
    "\n",
    "def counts_to_vector(counts):\n",
    "    keys = sorted([f\"{i:03b}\" for i in range(8)])\n",
    "    vec = np.array([counts.get(k, 0) for k in keys], dtype=float)\n",
    "    return vec / vec.sum()\n",
    "\n",
    "def similarity(v1, v2):\n",
    "    return 1 - cosine(v1, v2)\n",
    "\n",
    "results = []\n",
    "for _ in trange(iterations):\n",
    "    angles_a = base_angles\n",
    "    counts_a = run_circuit(angles_a)\n",
    "    vec_a = counts_to_vector(counts_a)\n",
    "\n",
    "    angles_b = [theta + np.random.normal(0, noise_level) for theta in base_angles]\n",
    "    counts_b = run_circuit(angles_b)\n",
    "    vec_b = counts_to_vector(counts_b)\n",
    "\n",
    "    angles_c = [np.random.uniform(0, np.pi) for _ in range(n_qubits)]\n",
    "    counts_c = run_circuit(angles_c)\n",
    "    vec_c = counts_to_vector(counts_c)\n",
    "\n",
    "    sim_ab = similarity(vec_a, vec_b)\n",
    "    sim_bc = similarity(vec_b, vec_c)\n",
    "    g_ex = sim_ab / (sim_bc + 1e-6)\n",
    "\n",
    "    results.append((sim_ab, sim_bc, g_ex))\n",
    "\n",
    "print(f\"{'A-B 유사도':>12} | {'B-C 유사도':>12} | {'G_ex':>6}\")\n",
    "print(\"-\" * 36)\n",
    "for ab, bc, gx in results:\n",
    "    print(f\"{ab:12.4f} | {bc:12.4f} | {gx:6.2f}\")\n"
   ]
  }
 ],
 "metadata": {
  "language_info": {
   "name": "python"
  }
 },
 "nbformat": 4,
 "nbformat_minor": 5
}
